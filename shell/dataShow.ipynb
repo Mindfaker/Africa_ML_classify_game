{
 "cells": [
  {
   "cell_type": "code",
   "execution_count": 1,
   "metadata": {},
   "outputs": [],
   "source": [
    "import  pandas as pd"
   ]
  },
  {
   "cell_type": "code",
   "execution_count": 2,
   "metadata": {},
   "outputs": [],
   "source": [
    "import sys\n",
    "import os"
   ]
  },
  {
   "cell_type": "code",
   "execution_count": 3,
   "metadata": {},
   "outputs": [],
   "source": [
    "data_path = r\"E:\\ML_game\\Africa_ML_classify_game\\Data\""
   ]
  },
  {
   "cell_type": "code",
   "execution_count": 5,
   "metadata": {},
   "outputs": [],
   "source": [
    "file_name_list = os.listdir(data_path)"
   ]
  },
  {
   "cell_type": "code",
   "execution_count": 6,
   "metadata": {},
   "outputs": [
    {
     "data": {
      "text/plain": [
       "['detail.txt', 'SampleSubmission.csv', 'Test.csv', 'Train.csv']"
      ]
     },
     "execution_count": 6,
     "metadata": {},
     "output_type": "execute_result"
    }
   ],
   "source": [
    "file_name_list"
   ]
  },
  {
   "cell_type": "code",
   "execution_count": 7,
   "metadata": {},
   "outputs": [
    {
     "ename": "FileNotFoundError",
     "evalue": "File b\"E:\\\\ML_game\\\\Africa_ML_classify_game\\\\Data\\\\'detail.txt\" does not exist",
     "output_type": "error",
     "traceback": [
      "---------------------------------------------------------------------------",
      "FileNotFoundError                         Traceback (most recent call last)",
      "<ipython-input-7-46f81e8e0a89> in <module>()\n----> 1 pd.read_csv(os.path.join(data_path, \"'detail.txt\"))\n",
      "c:\\users\\faker\\appdata\\local\\programs\\python\\python36\\lib\\site-packages\\pandas\\io\\parsers.py in parser_f(filepath_or_buffer, sep, delimiter, header, names, index_col, usecols, squeeze, prefix, mangle_dupe_cols, dtype, engine, converters, true_values, false_values, skipinitialspace, skiprows, nrows, na_values, keep_default_na, na_filter, verbose, skip_blank_lines, parse_dates, infer_datetime_format, keep_date_col, date_parser, dayfirst, iterator, chunksize, compression, thousands, decimal, lineterminator, quotechar, quoting, escapechar, comment, encoding, dialect, tupleize_cols, error_bad_lines, warn_bad_lines, skipfooter, skip_footer, doublequote, delim_whitespace, as_recarray, compact_ints, use_unsigned, low_memory, buffer_lines, memory_map, float_precision)\n    707                     skip_blank_lines=skip_blank_lines)\n    708 \n--> 709         return _read(filepath_or_buffer, kwds)\n    710 \n    711     parser_f.__name__ = name\n",
      "c:\\users\\faker\\appdata\\local\\programs\\python\\python36\\lib\\site-packages\\pandas\\io\\parsers.py in _read(filepath_or_buffer, kwds)\n    447 \n    448     # Create the parser.\n--> 449     parser = TextFileReader(filepath_or_buffer, **kwds)\n    450 \n    451     if chunksize or iterator:\n",
      "c:\\users\\faker\\appdata\\local\\programs\\python\\python36\\lib\\site-packages\\pandas\\io\\parsers.py in __init__(self, f, engine, **kwds)\n    816             self.options['has_index_names'] = kwds['has_index_names']\n    817 \n--> 818         self._make_engine(self.engine)\n    819 \n    820     def close(self):\n",
      "c:\\users\\faker\\appdata\\local\\programs\\python\\python36\\lib\\site-packages\\pandas\\io\\parsers.py in _make_engine(self, engine)\n   1047     def _make_engine(self, engine='c'):\n   1048         if engine == 'c':\n-> 1049             self._engine = CParserWrapper(self.f, **self.options)\n   1050         else:\n   1051             if engine == 'python':\n",
      "c:\\users\\faker\\appdata\\local\\programs\\python\\python36\\lib\\site-packages\\pandas\\io\\parsers.py in __init__(self, src, **kwds)\n   1693         kwds['allow_leading_cols'] = self.index_col is not False\n   1694 \n-> 1695         self._reader = parsers.TextReader(src, **kwds)\n   1696 \n   1697         # XXX\n",
      "pandas\\_libs\\parsers.pyx in pandas._libs.parsers.TextReader.__cinit__()\n",
      "pandas\\_libs\\parsers.pyx in pandas._libs.parsers.TextReader._setup_parser_source()\n",
      "FileNotFoundError: File b\"E:\\\\ML_game\\\\Africa_ML_classify_game\\\\Data\\\\'detail.txt\" does not exist"
     ]
    }
   ],
   "source": [
    "pd.read_csv(os.path.join(data_path, \"'detail.txt\"))"
   ]
  },
  {
   "cell_type": "code",
   "execution_count": null,
   "metadata": {},
   "outputs": [],
   "source": []
  }
 ],
 "metadata": {
  "kernelspec": {
   "display_name": "Python 3",
   "language": "python",
   "name": "python3"
  },
  "language_info": {
   "codemirror_mode": {
    "name": "ipython",
    "version": 3
   },
   "file_extension": ".py",
   "mimetype": "text/x-python",
   "name": "python",
   "nbconvert_exporter": "python",
   "pygments_lexer": "ipython3",
   "version": "3.6.0"
  }
 },
 "nbformat": 4,
 "nbformat_minor": 1
}
